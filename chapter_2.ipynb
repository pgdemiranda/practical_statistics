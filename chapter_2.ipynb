{
 "cells": [
  {
   "attachments": {},
   "cell_type": "markdown",
   "metadata": {},
   "source": [
    "# Chapter 2 - Data and Sampling Distributions"
   ]
  },
  {
   "cell_type": "code",
   "execution_count": 2,
   "metadata": {},
   "outputs": [],
   "source": [
    "%matplotlib inline\n",
    "\n",
    "from pathlib import Path\n",
    "import pandas as pd\n",
    "import numpy as np\n",
    "from scipy import stats\n",
    "from sklearn.utils import resample\n",
    "\n",
    "import seaborn as sns\n",
    "import matplotlib.pylab as plt"
   ]
  },
  {
   "cell_type": "code",
   "execution_count": 3,
   "metadata": {},
   "outputs": [],
   "source": [
    "try:\n",
    "    import common\n",
    "    DATA = common.dataDirectory()\n",
    "except ImportError:\n",
    "    DATA = Path().resolve() / 'data'"
   ]
  },
  {
   "cell_type": "code",
   "execution_count": 4,
   "metadata": {},
   "outputs": [],
   "source": [
    "LOANS_INCOME_CSV = DATA / 'loans_income.csv'\n",
    "SP500_DATA_CSV = DATA / 'sp500_data.csv.gz'"
   ]
  },
  {
   "attachments": {},
   "cell_type": "markdown",
   "metadata": {},
   "source": [
    "## Random Sampling and Sample Bias"
   ]
  },
  {
   "attachments": {},
   "cell_type": "markdown",
   "metadata": {},
   "source": [
    "**Sample**: A subset from a larger data set.\n",
    "\n",
    "**Population**: The larger data set or idea of a data set.\n",
    "\n",
    "**N (n)**: The size of the population (sample).\n",
    "\n",
    "**Random sampling**: Drawing elements into a sample at random.\n",
    "\n",
    "**Stratified sampling**: Dividing the population into strata and randomly sampling from each strata.\n",
    "\n",
    "**Stratum (pl., strata)**: A homogeneous subgroup of a population with common characteristics.\n",
    "\n",
    "**Simple random sample**: The sample that results from random sampling without stratifying the population.\n",
    "\n",
    "**Bias**: Systematic error.\n",
    "\n",
    "**Sample bias**: A sample that misrepresents the population.\n"
   ]
  },
  {
   "attachments": {},
   "cell_type": "markdown",
   "metadata": {},
   "source": [
    "- Even in the era of big data, random sampling remains an important arrow in the data scientist’s quiver.\n",
    "- Bias occurs when measurements or observations are systematically in error because they are not representative of the full population.\n",
    "- Data quality is often more important than data quantity, and random sampling can reduce bias and facilitate quality improvement that would otherwise be prohibitively expensive."
   ]
  },
  {
   "attachments": {},
   "cell_type": "markdown",
   "metadata": {},
   "source": [
    "## Selection Bias"
   ]
  },
  {
   "attachments": {},
   "cell_type": "markdown",
   "metadata": {},
   "source": [
    "**Selection bias**: Bias resulting from the way in which observations are selected.\n",
    "\n",
    "**Data snooping**: Extensive hunting through data in search of something interesting.\n",
    "\n",
    "**Vast search effect**: Bias or nonreproducibility resulting from repeated data modeling, or modeling data with large numbers of predictor variables."
   ]
  },
  {
   "attachments": {},
   "cell_type": "markdown",
   "metadata": {},
   "source": [
    "- Specifying a hypothesis and then collecting data following randomization and random sampling principles ensures against bias.\n",
    "- All other forms of data analysis run the risk of bias resulting from the data collection/analysis process (repeated running of models in data mining, data snooping in research, and after-the-fact selection of interesting events).\n"
   ]
  },
  {
   "attachments": {},
   "cell_type": "markdown",
   "metadata": {},
   "source": [
    "## Sampling Distribution of a Statistic"
   ]
  },
  {
   "attachments": {},
   "cell_type": "markdown",
   "metadata": {},
   "source": [
    "**Sample statistic**: A metric calculated for a sample of data drawn from a larger population.\n",
    "\n",
    "**Data distribution**: The frequency distribution of individual values in a data set.\n",
    "\n",
    "**Sampling distribution**: The frequency distribution of a sample statistic over many samples or resamples.\n",
    "\n",
    "**Central limit theorem**: The tendency of the sampling distribution to take on a normal shape as sample size rises.\n",
    "\n",
    "**Standard error**: The variability (standard deviation) of a sample statistic over many samples (not to be confused with standard deviation, which by itself, refers to variability of individual data values).\n"
   ]
  },
  {
   "cell_type": "code",
   "execution_count": 5,
   "metadata": {},
   "outputs": [
    {
     "name": "stdout",
     "output_type": "stream",
     "text": [
      "         income  type\n",
      "35258   46500.0  Data\n",
      "28597  160000.0  Data\n",
      "33493   55000.0  Data\n",
      "15921   83200.0  Data\n",
      "19423   70000.0  Data\n"
     ]
    }
   ],
   "source": [
    "loans_income = pd.read_csv(LOANS_INCOME_CSV).squeeze('columns')\n",
    "\n",
    "sample_data = pd.DataFrame({'income': loans_income.sample(1000), 'type': 'Data'})\n",
    "sample_mean_05 = pd.DataFrame({'income': [loans_income.sample(5).mean() for _ in range(1000)], 'type': 'Mean of 5'})\n",
    "sample_mean_20 = pd.DataFrame({'income': [loans_income.sample(20).mean() for _ in range(1000)], 'type': 'Mean of 20'})\n",
    "\n",
    "results = pd.concat([sample_data, sample_mean_05, sample_mean_20])\n",
    "print(results.head())"
   ]
  },
  {
   "cell_type": "code",
   "execution_count": 6,
   "metadata": {},
   "outputs": [
    {
     "data": {
      "image/png": "[encoded data removed]",
      "text/plain": [
       "<Figure size 400x600 with 3 Axes>"
      ]
     },
     "metadata": {},
     "output_type": "display_data"
    }
   ],
   "source": [
    "g = sns.FacetGrid(results, col='type', col_wrap=1, height=2, aspect=2)\n",
    "g.map(plt.hist, 'income', range=[0, 200000], bins=40)\n",
    "g.set_axis_labels('Income', 'Count')\n",
    "g.set_titles('{col_name}')\n",
    "\n",
    "plt.tight_layout()\n",
    "plt.show()"
   ]
  },
  {
   "attachments": {},
   "cell_type": "markdown",
   "metadata": {},
   "source": [
    "- The frequency distribution of a sample statistic tells us how that metric would turn out differently from sample to sample.\n",
    "- This sampling distribution can be estimated via the bootstrap, or via formulas that rely on the central limit theorem.\n",
    "- A key metric that sums up the variability of a sample statistic is its standard error."
   ]
  },
  {
   "attachments": {},
   "cell_type": "markdown",
   "metadata": {},
   "source": [
    "## The Bootstrap"
   ]
  },
  {
   "attachments": {},
   "cell_type": "markdown",
   "metadata": {},
   "source": [
    "**Bootstrap sample**: A sample taken with replacement from an observed data set.\n",
    "\n",
    "**Resampling**: The process of taking repeated samples from observed data; includes both bootstrap and permutation (shuffling) procedures."
   ]
  },
  {
   "cell_type": "code",
   "execution_count": 8,
   "metadata": {},
   "outputs": [
    {
     "name": "stdout",
     "output_type": "stream",
     "text": [
      "Bootstrap Statistics:\n",
      "original: 62000.0\n",
      "bias: -83.59550000000309\n",
      "std. error: 236.33111205313992\n"
     ]
    }
   ],
   "source": [
    "results = []\n",
    "for nrepeat in range(1000):\n",
    "    sample = resample(loans_income)\n",
    "    results.append(sample.median())\n",
    "results = pd.Series(results)\n",
    "print('Bootstrap Statistics:')\n",
    "print(f'original: {loans_income.median()}')\n",
    "print(f'bias: {results.mean() - loans_income.median()}')\n",
    "print(f'std. error: {results.std()}')"
   ]
  },
  {
   "attachments": {},
   "cell_type": "markdown",
   "metadata": {},
   "source": [
    "- The bootstrap (sampling with replacement from a data set) is a powerful tool for assessing the variability of a sample statistic.\n",
    "- The bootstrap can be applied in similar fashion in a wide variety of circumstances, without extensive study of mathematical approximations to sampling distributions.\n",
    "- It also allows us to estimate sampling distributions for statistics where no mathematical approximation has been developed.\n",
    "- When applied to predictive models, aggregating multiple bootstrap sample predictions (bagging) outperforms the use of a single model.\n"
   ]
  },
  {
   "attachments": {},
   "cell_type": "markdown",
   "metadata": {},
   "source": [
    "## Confidence Intervals"
   ]
  },
  {
   "attachments": {},
   "cell_type": "markdown",
   "metadata": {},
   "source": [
    "**Confidence level**: The percentage of confidence intervals, constructed in the same way from the same population, that are expected to contain the statistic of interest.\n",
    "\n",
    "**Interval endpoints**: The top and bottom of the confidence interval.\n"
   ]
  },
  {
   "attachments": {},
   "cell_type": "markdown",
   "metadata": {},
   "source": [
    "- Confidence intervals are the typical way to present estimates as an interval range.\n",
    "- The more data you have, the less variable a sample estimate will be.\n",
    "- The lower the level of confidence you can tolerate, the narrower the confidence interval will be.\n",
    "- The bootstrap is an effective way to construct confidence intervals."
   ]
  },
  {
   "attachments": {},
   "cell_type": "markdown",
   "metadata": {},
   "source": [
    "## Distribuições"
   ]
  },
  {
   "attachments": {},
   "cell_type": "markdown",
   "metadata": {},
   "source": [
    "### Normal Distribution"
   ]
  },
  {
   "attachments": {},
   "cell_type": "markdown",
   "metadata": {},
   "source": [
    "**Error**: The difference between a data point and a predicted or average value.\n",
    "\n",
    "**Standardize**: Subtract the mean and divide by the standard deviation.\n",
    "\n",
    "**z-score**: The result of standardizing an individual data point.\n",
    "\n",
    "**Standard normal**: A normal distribution with mean = 0 and standard deviation = 1.\n",
    "\n",
    "**QQ-Plot**: A plot to visualize how close a sample distribution is to a specified distribution, e.g., the normal distribution."
   ]
  },
  {
   "cell_type": "code",
   "execution_count": 9,
   "metadata": {},
   "outputs": [
    {
     "data": {
      "image/png": "[encoded data removed]",
      "text/plain": [
       "<Figure size 400x400 with 1 Axes>"
      ]
     },
     "metadata": {},
     "output_type": "display_data"
    }
   ],
   "source": [
    "fig, ax = plt.subplots(figsize=(4, 4))\n",
    "\n",
    "norm_sample = stats.norm.rvs(size=100)\n",
    "stats.probplot(norm_sample, plot=ax)\n",
    "\n",
    "plt.tight_layout()\n",
    "plt.show()"
   ]
  },
  {
   "attachments": {},
   "cell_type": "markdown",
   "metadata": {},
   "source": [
    "- The normal distribution was essential to the historical development of statistics, as it permitted mathematical approximation of uncertainty and variability.\n",
    "- While raw data is typically not normally distributed, errors often are, as are averages and totals in large samples.\n",
    "- To convert data to z-scores, you subtract the mean of the data and divide by the standard deviation; you can then compare the data to a normal distribution."
   ]
  },
  {
   "attachments": {},
   "cell_type": "markdown",
   "metadata": {},
   "source": [
    "### Long-Tailed Distributions"
   ]
  },
  {
   "attachments": {},
   "cell_type": "markdown",
   "metadata": {},
   "source": [
    "**Tail**: The long narrow portion of a frequency distribution, where relatively extreme values occur at low frequency.\n",
    "\n",
    "**Skew**: Where one tail of a distribution is longer than the other."
   ]
  },
  {
   "cell_type": "code",
   "execution_count": 10,
   "metadata": {},
   "outputs": [
    {
     "data": {
      "image/png": "[encoded data removed]",
      "text/plain": [
       "<Figure size 400x400 with 1 Axes>"
      ]
     },
     "metadata": {},
     "output_type": "display_data"
    }
   ],
   "source": [
    "sp500_px = pd.read_csv(SP500_DATA_CSV)\n",
    "\n",
    "nflx = sp500_px.NFLX\n",
    "nflx = np.diff(np.log(nflx[nflx>0]))\n",
    "\n",
    "fig, ax = plt.subplots(figsize=(4, 4))\n",
    "stats.probplot(nflx, plot=ax)\n",
    "\n",
    "plt.tight_layout()\n",
    "plt.show()"
   ]
  },
  {
   "attachments": {},
   "cell_type": "markdown",
   "metadata": {},
   "source": [
    "- Most data is not normally distributed.\n",
    "- Assuming a normal distribution can lead to underestimation of extreme events (“black swans”)."
   ]
  },
  {
   "attachments": {},
   "cell_type": "markdown",
   "metadata": {},
   "source": [
    "### Student’s t-Distribution"
   ]
  },
  {
   "attachments": {},
   "cell_type": "markdown",
   "metadata": {},
   "source": [
    "**n**: Sample size.\n",
    "\n",
    "**Degrees of freedom**: A parameter that allows the t-distribution to adjust to different sample sizes, statistics, and numbers of groups."
   ]
  },
  {
   "attachments": {},
   "cell_type": "markdown",
   "metadata": {},
   "source": [
    "- The t-distribution is actually a family of distributions resembling the normal distribution but with thicker tails.\n",
    "\n",
    "- The t-distribution is widely used as a reference basis for the distribution of sample means, differences between two sample means, regression parameters, and more.\n"
   ]
  },
  {
   "attachments": {},
   "cell_type": "markdown",
   "metadata": {},
   "source": [
    "### Binomial Distribution"
   ]
  },
  {
   "attachments": {},
   "cell_type": "markdown",
   "metadata": {},
   "source": [
    "**Trial**: An event with a discrete outcome (e.g., a coin flip).\n",
    "\n",
    "**Success**: The outcome of interest for a trial. Synonym “1” (as opposed to “0”)\n",
    "\n",
    "**Binomial**: Having two outcomes. Synonyms yes/no, 0/1, binary\n",
    "\n",
    "**Binomial trial**: A trial with two outcomes. Synonym Bernoulli trial\n",
    "\n",
    "**Binomial distribution**: Distribution of number of successes in x trials. Synonym Bernoulli distribution"
   ]
  },
  {
   "cell_type": "code",
   "execution_count": 11,
   "metadata": {},
   "outputs": [
    {
     "name": "stdout",
     "output_type": "stream",
     "text": [
      "0.07289999999999992\n"
     ]
    }
   ],
   "source": [
    "print(stats.binom.pmf(2, n=5, p=0.1))"
   ]
  },
  {
   "cell_type": "code",
   "execution_count": 12,
   "metadata": {},
   "outputs": [
    {
     "name": "stdout",
     "output_type": "stream",
     "text": [
      "0.99144\n"
     ]
    }
   ],
   "source": [
    "print(stats.binom.cdf(2, n=5, p=0.1))"
   ]
  },
  {
   "attachments": {},
   "cell_type": "markdown",
   "metadata": {},
   "source": [
    "- Binomial outcomes are important to model, since they represent, among other things, fundamental decisions (buy or don’t buy, click or don’t click, survive or die, etc.).\n",
    "\n",
    "- A binomial trial is an experiment with two possible outcomes: one with probability p and the other with probability 1 – p.\n",
    "\n",
    "- With large n, and provided p is not too close to 0 or 1, the binomial distribution can be approximated by the normal distribution."
   ]
  },
  {
   "attachments": {},
   "cell_type": "markdown",
   "metadata": {},
   "source": [
    "### Chi-Square Distribution"
   ]
  },
  {
   "attachments": {},
   "cell_type": "markdown",
   "metadata": {},
   "source": [
    "- The chi-square distribution is typically concerned with counts of subjects or items falling into categories.\n",
    "- The chi-square statistic measures the extent of departure from what you would expect in a null model."
   ]
  },
  {
   "attachments": {},
   "cell_type": "markdown",
   "metadata": {},
   "source": [
    "### F-Distribution"
   ]
  },
  {
   "attachments": {},
   "cell_type": "markdown",
   "metadata": {},
   "source": [
    "- The F-distribution is used with experiments and linear models involving measured data.\n",
    "- The F-statistic compares variation due to factors of interest to overall variation."
   ]
  },
  {
   "attachments": {},
   "cell_type": "markdown",
   "metadata": {},
   "source": [
    "### Poisson and Related Distributions"
   ]
  },
  {
   "attachments": {},
   "cell_type": "markdown",
   "metadata": {},
   "source": [
    "**Lambda**: The rate (per unit of time or space) at which events occur.\n",
    "\n",
    "**Poisson distribution**: The frequency distribution of the number of events in sampled units of time or space.\n",
    "\n",
    "**Exponential distribution**: The frequency distribution of the time or distance from one event to the next event.\n",
    "\n",
    "**Weibull distribution**: A generalized version of the exponential distribution in which the event rate is allowed to shift over time."
   ]
  },
  {
   "cell_type": "code",
   "execution_count": 13,
   "metadata": {},
   "outputs": [
    {
     "data": {
      "image/png": "[encoded data removed]",
      "text/plain": [
       "<Figure size 640x480 with 1 Axes>"
      ]
     },
     "metadata": {},
     "output_type": "display_data"
    }
   ],
   "source": [
    "# Poisson\n",
    "sample = stats.poisson.rvs(2, size=100)\n",
    "\n",
    "pd.Series(sample).plot.hist()\n",
    "plt.show()"
   ]
  },
  {
   "cell_type": "code",
   "execution_count": 14,
   "metadata": {},
   "outputs": [
    {
     "data": {
      "image/png": "[encoded data removed]",
      "text/plain": [
       "<Figure size 640x480 with 1 Axes>"
      ]
     },
     "metadata": {},
     "output_type": "display_data"
    }
   ],
   "source": [
    "# Exponential\n",
    "sample = stats.expon.rvs(scale=5, size=100)\n",
    "\n",
    "pd.Series(sample).plot.hist()\n",
    "plt.show()"
   ]
  },
  {
   "cell_type": "code",
   "execution_count": 15,
   "metadata": {},
   "outputs": [
    {
     "data": {
      "image/png": "[encoded data removed]",
      "text/plain": [
       "<Figure size 640x480 with 1 Axes>"
      ]
     },
     "metadata": {},
     "output_type": "display_data"
    }
   ],
   "source": [
    "# Weibull\n",
    "sample = stats.weibull_min.rvs(1.5, scale=5000, size=100)\n",
    "\n",
    "pd.Series(sample).plot.hist()\n",
    "plt.show()"
   ]
  },
  {
   "attachments": {},
   "cell_type": "markdown",
   "metadata": {},
   "source": [
    "- For events that occur at a constant rate, the number of events per unit of time or space can be modeled as a Poisson distribution.\n",
    "- You can also model the time or distance between one event and the next as an exponential distribution.\n",
    "- A changing event rate over time (e.g., an increasing probability of device failure) can be modeled with the Weibull distribution."
   ]
  }
 ],
 "metadata": {
  "kernelspec": {
   "display_name": "practical_statistics",
   "language": "python",
   "name": "python3"
  },
  "language_info": {
   "codemirror_mode": {
    "name": "ipython",
    "version": 3
   },
   "file_extension": ".py",
   "mimetype": "text/x-python",
   "name": "python",
   "nbconvert_exporter": "python",
   "pygments_lexer": "ipython3",
   "version": "3.11.3"
  },
  "orig_nbformat": 4
 },
 "nbformat": 4,
 "nbformat_minor": 2
}
